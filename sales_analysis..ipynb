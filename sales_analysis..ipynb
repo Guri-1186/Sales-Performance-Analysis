{
 "cells": [
  {
   "cell_type": "markdown",
   "id": "b8f598e8-4f98-4283-98a8-bea7f8cdf107",
   "metadata": {},
   "source": [
    "# Sales Performance Analysis Project\n",
    "\n",
    "## Project Overview\n",
    "This project analyzes retail sales data to uncover insights about:\n",
    "- Sales trends and patterns\n",
    "- Product performance\n",
    "- Customer behavior\n",
    "- Geographic distribution\n",
    "\n",
    "## Dataset\n",
    "- Source: Online Retail Dataset (UCI ML Repository)\n",
    "- Sample: 25,000 transactions\n",
    "- Columns: InvoiceNo, StockCode, Description, Quantity, InvoiceDate, UnitPrice, CustomerID, Country\n",
    "\n",
    "## Data Loading"
   ]
  },
  {
   "cell_type": "code",
   "execution_count": 1,
   "id": "ee4c2e52-6449-48cd-a993-0424330d5f33",
   "metadata": {},
   "outputs": [],
   "source": [
    "import pandas as pd\n",
    "import numpy as np\n",
    "import matplotlib.pyplot as plt\n"
   ]
  },
  {
   "cell_type": "code",
   "execution_count": 2,
   "id": "42bc0272-d27e-4359-b553-b6f19182be23",
   "metadata": {},
   "outputs": [],
   "source": [
    "\n",
    "use_columns = [\"InvoiceNo\", \"StockCode\", \"Description\", \"Quantity\", \"InvoiceDate\", \"UnitPrice\", \"CustomerID\", \"Country\"]\n",
    "sales = pd.read_excel(\"Online Retail.xlsx\", usecols=use_columns, nrows=25_000)"
   ]
  },
  {
   "cell_type": "markdown",
   "id": "de0b649b-19aa-4bfb-9382-1a531f3fed32",
   "metadata": {},
   "source": [
    "### Checking Data Structure\n"
   ]
  },
  {
   "cell_type": "code",
   "execution_count": 3,
   "id": "6acb5c95-170c-413f-ba4e-a56ac2a55dd2",
   "metadata": {},
   "outputs": [
    {
     "data": {
      "text/html": [
       "<div>\n",
       "<style scoped>\n",
       "    .dataframe tbody tr th:only-of-type {\n",
       "        vertical-align: middle;\n",
       "    }\n",
       "\n",
       "    .dataframe tbody tr th {\n",
       "        vertical-align: top;\n",
       "    }\n",
       "\n",
       "    .dataframe thead th {\n",
       "        text-align: right;\n",
       "    }\n",
       "</style>\n",
       "<table border=\"1\" class=\"dataframe\">\n",
       "  <thead>\n",
       "    <tr style=\"text-align: right;\">\n",
       "      <th></th>\n",
       "      <th>InvoiceNo</th>\n",
       "      <th>StockCode</th>\n",
       "      <th>Description</th>\n",
       "      <th>Quantity</th>\n",
       "      <th>InvoiceDate</th>\n",
       "      <th>UnitPrice</th>\n",
       "      <th>CustomerID</th>\n",
       "      <th>Country</th>\n",
       "    </tr>\n",
       "  </thead>\n",
       "  <tbody>\n",
       "    <tr>\n",
       "      <th>0</th>\n",
       "      <td>536365</td>\n",
       "      <td>85123A</td>\n",
       "      <td>WHITE HANGING HEART T-LIGHT HOLDER</td>\n",
       "      <td>6</td>\n",
       "      <td>2010-12-01 08:26:00</td>\n",
       "      <td>2.55</td>\n",
       "      <td>17850.0</td>\n",
       "      <td>United Kingdom</td>\n",
       "    </tr>\n",
       "    <tr>\n",
       "      <th>1</th>\n",
       "      <td>536365</td>\n",
       "      <td>71053</td>\n",
       "      <td>WHITE METAL LANTERN</td>\n",
       "      <td>6</td>\n",
       "      <td>2010-12-01 08:26:00</td>\n",
       "      <td>3.39</td>\n",
       "      <td>17850.0</td>\n",
       "      <td>United Kingdom</td>\n",
       "    </tr>\n",
       "    <tr>\n",
       "      <th>2</th>\n",
       "      <td>536365</td>\n",
       "      <td>84406B</td>\n",
       "      <td>CREAM CUPID HEARTS COAT HANGER</td>\n",
       "      <td>8</td>\n",
       "      <td>2010-12-01 08:26:00</td>\n",
       "      <td>2.75</td>\n",
       "      <td>17850.0</td>\n",
       "      <td>United Kingdom</td>\n",
       "    </tr>\n",
       "    <tr>\n",
       "      <th>3</th>\n",
       "      <td>536365</td>\n",
       "      <td>84029G</td>\n",
       "      <td>KNITTED UNION FLAG HOT WATER BOTTLE</td>\n",
       "      <td>6</td>\n",
       "      <td>2010-12-01 08:26:00</td>\n",
       "      <td>3.39</td>\n",
       "      <td>17850.0</td>\n",
       "      <td>United Kingdom</td>\n",
       "    </tr>\n",
       "    <tr>\n",
       "      <th>4</th>\n",
       "      <td>536365</td>\n",
       "      <td>84029E</td>\n",
       "      <td>RED WOOLLY HOTTIE WHITE HEART.</td>\n",
       "      <td>6</td>\n",
       "      <td>2010-12-01 08:26:00</td>\n",
       "      <td>3.39</td>\n",
       "      <td>17850.0</td>\n",
       "      <td>United Kingdom</td>\n",
       "    </tr>\n",
       "    <tr>\n",
       "      <th>5</th>\n",
       "      <td>536365</td>\n",
       "      <td>22752</td>\n",
       "      <td>SET 7 BABUSHKA NESTING BOXES</td>\n",
       "      <td>2</td>\n",
       "      <td>2010-12-01 08:26:00</td>\n",
       "      <td>7.65</td>\n",
       "      <td>17850.0</td>\n",
       "      <td>United Kingdom</td>\n",
       "    </tr>\n",
       "    <tr>\n",
       "      <th>6</th>\n",
       "      <td>536365</td>\n",
       "      <td>21730</td>\n",
       "      <td>GLASS STAR FROSTED T-LIGHT HOLDER</td>\n",
       "      <td>6</td>\n",
       "      <td>2010-12-01 08:26:00</td>\n",
       "      <td>4.25</td>\n",
       "      <td>17850.0</td>\n",
       "      <td>United Kingdom</td>\n",
       "    </tr>\n",
       "    <tr>\n",
       "      <th>7</th>\n",
       "      <td>536366</td>\n",
       "      <td>22633</td>\n",
       "      <td>HAND WARMER UNION JACK</td>\n",
       "      <td>6</td>\n",
       "      <td>2010-12-01 08:28:00</td>\n",
       "      <td>1.85</td>\n",
       "      <td>17850.0</td>\n",
       "      <td>United Kingdom</td>\n",
       "    </tr>\n",
       "    <tr>\n",
       "      <th>8</th>\n",
       "      <td>536366</td>\n",
       "      <td>22632</td>\n",
       "      <td>HAND WARMER RED POLKA DOT</td>\n",
       "      <td>6</td>\n",
       "      <td>2010-12-01 08:28:00</td>\n",
       "      <td>1.85</td>\n",
       "      <td>17850.0</td>\n",
       "      <td>United Kingdom</td>\n",
       "    </tr>\n",
       "    <tr>\n",
       "      <th>9</th>\n",
       "      <td>536367</td>\n",
       "      <td>84879</td>\n",
       "      <td>ASSORTED COLOUR BIRD ORNAMENT</td>\n",
       "      <td>32</td>\n",
       "      <td>2010-12-01 08:34:00</td>\n",
       "      <td>1.69</td>\n",
       "      <td>13047.0</td>\n",
       "      <td>United Kingdom</td>\n",
       "    </tr>\n",
       "  </tbody>\n",
       "</table>\n",
       "</div>"
      ],
      "text/plain": [
       "  InvoiceNo StockCode                          Description  Quantity  \\\n",
       "0    536365    85123A   WHITE HANGING HEART T-LIGHT HOLDER         6   \n",
       "1    536365     71053                  WHITE METAL LANTERN         6   \n",
       "2    536365    84406B       CREAM CUPID HEARTS COAT HANGER         8   \n",
       "3    536365    84029G  KNITTED UNION FLAG HOT WATER BOTTLE         6   \n",
       "4    536365    84029E       RED WOOLLY HOTTIE WHITE HEART.         6   \n",
       "5    536365     22752         SET 7 BABUSHKA NESTING BOXES         2   \n",
       "6    536365     21730    GLASS STAR FROSTED T-LIGHT HOLDER         6   \n",
       "7    536366     22633               HAND WARMER UNION JACK         6   \n",
       "8    536366     22632            HAND WARMER RED POLKA DOT         6   \n",
       "9    536367     84879        ASSORTED COLOUR BIRD ORNAMENT        32   \n",
       "\n",
       "          InvoiceDate  UnitPrice  CustomerID         Country  \n",
       "0 2010-12-01 08:26:00       2.55     17850.0  United Kingdom  \n",
       "1 2010-12-01 08:26:00       3.39     17850.0  United Kingdom  \n",
       "2 2010-12-01 08:26:00       2.75     17850.0  United Kingdom  \n",
       "3 2010-12-01 08:26:00       3.39     17850.0  United Kingdom  \n",
       "4 2010-12-01 08:26:00       3.39     17850.0  United Kingdom  \n",
       "5 2010-12-01 08:26:00       7.65     17850.0  United Kingdom  \n",
       "6 2010-12-01 08:26:00       4.25     17850.0  United Kingdom  \n",
       "7 2010-12-01 08:28:00       1.85     17850.0  United Kingdom  \n",
       "8 2010-12-01 08:28:00       1.85     17850.0  United Kingdom  \n",
       "9 2010-12-01 08:34:00       1.69     13047.0  United Kingdom  "
      ]
     },
     "execution_count": 3,
     "metadata": {},
     "output_type": "execute_result"
    }
   ],
   "source": [
    "sales.head(10)"
   ]
  },
  {
   "cell_type": "code",
   "execution_count": 4,
   "id": "6e946102-5bb1-4611-a573-c92f75eef3f1",
   "metadata": {},
   "outputs": [
    {
     "data": {
      "text/html": [
       "<div>\n",
       "<style scoped>\n",
       "    .dataframe tbody tr th:only-of-type {\n",
       "        vertical-align: middle;\n",
       "    }\n",
       "\n",
       "    .dataframe tbody tr th {\n",
       "        vertical-align: top;\n",
       "    }\n",
       "\n",
       "    .dataframe thead th {\n",
       "        text-align: right;\n",
       "    }\n",
       "</style>\n",
       "<table border=\"1\" class=\"dataframe\">\n",
       "  <thead>\n",
       "    <tr style=\"text-align: right;\">\n",
       "      <th></th>\n",
       "      <th>InvoiceNo</th>\n",
       "      <th>StockCode</th>\n",
       "      <th>Description</th>\n",
       "      <th>Quantity</th>\n",
       "      <th>InvoiceDate</th>\n",
       "      <th>UnitPrice</th>\n",
       "      <th>CustomerID</th>\n",
       "      <th>Country</th>\n",
       "    </tr>\n",
       "  </thead>\n",
       "  <tbody>\n",
       "    <tr>\n",
       "      <th>24990</th>\n",
       "      <td>538351</td>\n",
       "      <td>21976</td>\n",
       "      <td>PACK OF 60 MUSHROOM CAKE CASES</td>\n",
       "      <td>6</td>\n",
       "      <td>2010-12-10 15:17:00</td>\n",
       "      <td>2.13</td>\n",
       "      <td>NaN</td>\n",
       "      <td>United Kingdom</td>\n",
       "    </tr>\n",
       "    <tr>\n",
       "      <th>24991</th>\n",
       "      <td>538351</td>\n",
       "      <td>21989</td>\n",
       "      <td>PACK OF 20 SKULL PAPER NAPKINS</td>\n",
       "      <td>2</td>\n",
       "      <td>2010-12-10 15:17:00</td>\n",
       "      <td>2.51</td>\n",
       "      <td>NaN</td>\n",
       "      <td>United Kingdom</td>\n",
       "    </tr>\n",
       "    <tr>\n",
       "      <th>24992</th>\n",
       "      <td>538351</td>\n",
       "      <td>22069</td>\n",
       "      <td>BROWN  PIRATE TREASURE CHEST</td>\n",
       "      <td>2</td>\n",
       "      <td>2010-12-10 15:17:00</td>\n",
       "      <td>4.21</td>\n",
       "      <td>NaN</td>\n",
       "      <td>United Kingdom</td>\n",
       "    </tr>\n",
       "    <tr>\n",
       "      <th>24993</th>\n",
       "      <td>538351</td>\n",
       "      <td>22075</td>\n",
       "      <td>6 RIBBONS ELEGANT CHRISTMAS</td>\n",
       "      <td>2</td>\n",
       "      <td>2010-12-10 15:17:00</td>\n",
       "      <td>4.21</td>\n",
       "      <td>NaN</td>\n",
       "      <td>United Kingdom</td>\n",
       "    </tr>\n",
       "    <tr>\n",
       "      <th>24994</th>\n",
       "      <td>538351</td>\n",
       "      <td>22077</td>\n",
       "      <td>6 RIBBONS RUSTIC CHARM</td>\n",
       "      <td>11</td>\n",
       "      <td>2010-12-10 15:17:00</td>\n",
       "      <td>4.21</td>\n",
       "      <td>NaN</td>\n",
       "      <td>United Kingdom</td>\n",
       "    </tr>\n",
       "    <tr>\n",
       "      <th>24995</th>\n",
       "      <td>538351</td>\n",
       "      <td>22078</td>\n",
       "      <td>RIBBON REEL LACE DESIGN</td>\n",
       "      <td>2</td>\n",
       "      <td>2010-12-10 15:17:00</td>\n",
       "      <td>4.81</td>\n",
       "      <td>NaN</td>\n",
       "      <td>United Kingdom</td>\n",
       "    </tr>\n",
       "    <tr>\n",
       "      <th>24996</th>\n",
       "      <td>538351</td>\n",
       "      <td>22080</td>\n",
       "      <td>RIBBON REEL POLKADOTS</td>\n",
       "      <td>1</td>\n",
       "      <td>2010-12-10 15:17:00</td>\n",
       "      <td>4.21</td>\n",
       "      <td>NaN</td>\n",
       "      <td>United Kingdom</td>\n",
       "    </tr>\n",
       "    <tr>\n",
       "      <th>24997</th>\n",
       "      <td>538351</td>\n",
       "      <td>22081</td>\n",
       "      <td>RIBBON REEL FLORA + FAUNA</td>\n",
       "      <td>1</td>\n",
       "      <td>2010-12-10 15:17:00</td>\n",
       "      <td>4.21</td>\n",
       "      <td>NaN</td>\n",
       "      <td>United Kingdom</td>\n",
       "    </tr>\n",
       "    <tr>\n",
       "      <th>24998</th>\n",
       "      <td>538351</td>\n",
       "      <td>22082</td>\n",
       "      <td>RIBBON REEL STRIPES DESIGN</td>\n",
       "      <td>3</td>\n",
       "      <td>2010-12-10 15:17:00</td>\n",
       "      <td>4.21</td>\n",
       "      <td>NaN</td>\n",
       "      <td>United Kingdom</td>\n",
       "    </tr>\n",
       "    <tr>\n",
       "      <th>24999</th>\n",
       "      <td>538351</td>\n",
       "      <td>22083</td>\n",
       "      <td>PAPER CHAIN KIT RETROSPOT</td>\n",
       "      <td>23</td>\n",
       "      <td>2010-12-10 15:17:00</td>\n",
       "      <td>6.77</td>\n",
       "      <td>NaN</td>\n",
       "      <td>United Kingdom</td>\n",
       "    </tr>\n",
       "  </tbody>\n",
       "</table>\n",
       "</div>"
      ],
      "text/plain": [
       "      InvoiceNo StockCode                     Description  Quantity  \\\n",
       "24990    538351     21976  PACK OF 60 MUSHROOM CAKE CASES         6   \n",
       "24991    538351     21989  PACK OF 20 SKULL PAPER NAPKINS         2   \n",
       "24992    538351     22069   BROWN  PIRATE TREASURE CHEST          2   \n",
       "24993    538351     22075    6 RIBBONS ELEGANT CHRISTMAS          2   \n",
       "24994    538351     22077          6 RIBBONS RUSTIC CHARM        11   \n",
       "24995    538351     22078        RIBBON REEL LACE DESIGN          2   \n",
       "24996    538351     22080          RIBBON REEL POLKADOTS          1   \n",
       "24997    538351     22081      RIBBON REEL FLORA + FAUNA          1   \n",
       "24998    538351     22082     RIBBON REEL STRIPES DESIGN          3   \n",
       "24999    538351     22083       PAPER CHAIN KIT RETROSPOT        23   \n",
       "\n",
       "              InvoiceDate  UnitPrice  CustomerID         Country  \n",
       "24990 2010-12-10 15:17:00       2.13         NaN  United Kingdom  \n",
       "24991 2010-12-10 15:17:00       2.51         NaN  United Kingdom  \n",
       "24992 2010-12-10 15:17:00       4.21         NaN  United Kingdom  \n",
       "24993 2010-12-10 15:17:00       4.21         NaN  United Kingdom  \n",
       "24994 2010-12-10 15:17:00       4.21         NaN  United Kingdom  \n",
       "24995 2010-12-10 15:17:00       4.81         NaN  United Kingdom  \n",
       "24996 2010-12-10 15:17:00       4.21         NaN  United Kingdom  \n",
       "24997 2010-12-10 15:17:00       4.21         NaN  United Kingdom  \n",
       "24998 2010-12-10 15:17:00       4.21         NaN  United Kingdom  \n",
       "24999 2010-12-10 15:17:00       6.77         NaN  United Kingdom  "
      ]
     },
     "execution_count": 4,
     "metadata": {},
     "output_type": "execute_result"
    }
   ],
   "source": [
    "sales.tail(10)"
   ]
  },
  {
   "cell_type": "code",
   "execution_count": 5,
   "id": "05e890b6-4578-4b5f-8132-1de8935b81ca",
   "metadata": {},
   "outputs": [
    {
     "data": {
      "text/plain": [
       "(25000, 8)"
      ]
     },
     "execution_count": 5,
     "metadata": {},
     "output_type": "execute_result"
    }
   ],
   "source": [
    "\n",
    "sales.shape"
   ]
  },
  {
   "cell_type": "code",
   "execution_count": 6,
   "id": "d39c7f1c-19b3-4ecf-80df-5e772222db0f",
   "metadata": {},
   "outputs": [
    {
     "data": {
      "text/plain": [
       "Index(['InvoiceNo', 'StockCode', 'Description', 'Quantity', 'InvoiceDate',\n",
       "       'UnitPrice', 'CustomerID', 'Country'],\n",
       "      dtype='object')"
      ]
     },
     "execution_count": 6,
     "metadata": {},
     "output_type": "execute_result"
    }
   ],
   "source": [
    "sales.columns"
   ]
  },
  {
   "cell_type": "code",
   "execution_count": 7,
   "id": "b1af37ea-5978-4bf8-b2c5-896b76c5fa53",
   "metadata": {},
   "outputs": [
    {
     "data": {
      "text/plain": [
       "InvoiceNo              object\n",
       "StockCode              object\n",
       "Description            object\n",
       "Quantity                int64\n",
       "InvoiceDate    datetime64[ns]\n",
       "UnitPrice             float64\n",
       "CustomerID            float64\n",
       "Country                object\n",
       "dtype: object"
      ]
     },
     "execution_count": 7,
     "metadata": {},
     "output_type": "execute_result"
    }
   ],
   "source": [
    "sales.dtypes"
   ]
  },
  {
   "cell_type": "code",
   "execution_count": 8,
   "id": "2e96030e-dea7-4501-8035-6f10d57ab15d",
   "metadata": {},
   "outputs": [
    {
     "name": "stdout",
     "output_type": "stream",
     "text": [
      "<class 'pandas.core.frame.DataFrame'>\n",
      "RangeIndex: 25000 entries, 0 to 24999\n",
      "Data columns (total 8 columns):\n",
      " #   Column       Non-Null Count  Dtype         \n",
      "---  ------       --------------  -----         \n",
      " 0   InvoiceNo    25000 non-null  object        \n",
      " 1   StockCode    25000 non-null  object        \n",
      " 2   Description  24889 non-null  object        \n",
      " 3   Quantity     25000 non-null  int64         \n",
      " 4   InvoiceDate  25000 non-null  datetime64[ns]\n",
      " 5   UnitPrice    25000 non-null  float64       \n",
      " 6   CustomerID   16056 non-null  float64       \n",
      " 7   Country      25000 non-null  object        \n",
      "dtypes: datetime64[ns](1), float64(2), int64(1), object(4)\n",
      "memory usage: 1.5+ MB\n"
     ]
    }
   ],
   "source": [
    "sales.info()"
   ]
  },
  {
   "cell_type": "markdown",
   "id": "743f2525-eafd-4ee7-b0aa-96694b9bb42d",
   "metadata": {},
   "source": [
    "### Unique Value Counts\n"
   ]
  },
  {
   "cell_type": "code",
   "execution_count": 9,
   "id": "73861ccc-3dbd-4d87-85a6-1386c221884d",
   "metadata": {},
   "outputs": [
    {
     "data": {
      "text/plain": [
       "(1166, 2540, 18, 654)"
      ]
     },
     "execution_count": 9,
     "metadata": {},
     "output_type": "execute_result"
    }
   ],
   "source": [
    "sales['InvoiceNo'].nunique(), sales['StockCode'].nunique(), sales['Country'].nunique(), sales['CustomerID'].nunique()\n"
   ]
  },
  {
   "cell_type": "markdown",
   "id": "1df4a001-279c-48fe-9e30-66322a9a8f3e",
   "metadata": {
    "editable": true,
    "slideshow": {
     "slide_type": ""
    },
    "tags": []
   },
   "source": [
    "## Deep Data Exploration and Data Quality Check"
   ]
  },
  {
   "cell_type": "code",
   "execution_count": 10,
   "id": "435ecdd7-db5f-42ea-97fc-00a60f560832",
   "metadata": {},
   "outputs": [
    {
     "data": {
      "text/plain": [
       "InvoiceNo\n",
       "537434    675\n",
       "538071    652\n",
       "538349    620\n",
       "537638    601\n",
       "537237    597\n",
       "Name: count, dtype: int64"
      ]
     },
     "execution_count": 10,
     "metadata": {},
     "output_type": "execute_result"
    }
   ],
   "source": [
    "sales[\"InvoiceNo\"].value_counts().head()"
   ]
  },
  {
   "cell_type": "code",
   "execution_count": 11,
   "id": "ad7594d4-51c6-4bd7-adf4-6140249fcf48",
   "metadata": {},
   "outputs": [
    {
     "data": {
      "text/plain": [
       "StockCode\n",
       "85123A    132\n",
       "22086     120\n",
       "22867     110\n",
       "22423     104\n",
       "22633      98\n",
       "Name: count, dtype: int64"
      ]
     },
     "execution_count": 11,
     "metadata": {},
     "output_type": "execute_result"
    }
   ],
   "source": [
    "sales[\"StockCode\"].value_counts().head()"
   ]
  },
  {
   "cell_type": "code",
   "execution_count": 12,
   "id": "4f836ca4-03af-4d5b-b777-bfe620f913da",
   "metadata": {},
   "outputs": [
    {
     "data": {
      "text/plain": [
       "Description\n",
       "WHITE HANGING HEART T-LIGHT HOLDER    134\n",
       "PAPER CHAIN KIT 50'S CHRISTMAS        120\n",
       "HAND WARMER BIRD DESIGN               110\n",
       "REGENCY CAKESTAND 3 TIER              103\n",
       "HAND WARMER UNION JACK                 98\n",
       "Name: count, dtype: int64"
      ]
     },
     "execution_count": 12,
     "metadata": {},
     "output_type": "execute_result"
    }
   ],
   "source": [
    "sales[\"Description\"].value_counts().head()"
   ]
  },
  {
   "cell_type": "code",
   "execution_count": 13,
   "id": "c3142bc8-548b-4b26-be5f-8a7ba08aefd9",
   "metadata": {},
   "outputs": [
    {
     "data": {
      "text/html": [
       "<div>\n",
       "<style scoped>\n",
       "    .dataframe tbody tr th:only-of-type {\n",
       "        vertical-align: middle;\n",
       "    }\n",
       "\n",
       "    .dataframe tbody tr th {\n",
       "        vertical-align: top;\n",
       "    }\n",
       "\n",
       "    .dataframe thead th {\n",
       "        text-align: right;\n",
       "    }\n",
       "</style>\n",
       "<table border=\"1\" class=\"dataframe\">\n",
       "  <thead>\n",
       "    <tr style=\"text-align: right;\">\n",
       "      <th></th>\n",
       "      <th>InvoiceNo</th>\n",
       "      <th>StockCode</th>\n",
       "      <th>Description</th>\n",
       "      <th>Quantity</th>\n",
       "      <th>InvoiceDate</th>\n",
       "      <th>UnitPrice</th>\n",
       "      <th>CustomerID</th>\n",
       "      <th>Country</th>\n",
       "    </tr>\n",
       "  </thead>\n",
       "  <tbody>\n",
       "    <tr>\n",
       "      <th>141</th>\n",
       "      <td>C536379</td>\n",
       "      <td>D</td>\n",
       "      <td>Discount</td>\n",
       "      <td>-1</td>\n",
       "      <td>2010-12-01 09:41:00</td>\n",
       "      <td>27.50</td>\n",
       "      <td>14527.0</td>\n",
       "      <td>United Kingdom</td>\n",
       "    </tr>\n",
       "    <tr>\n",
       "      <th>154</th>\n",
       "      <td>C536383</td>\n",
       "      <td>35004C</td>\n",
       "      <td>SET OF 3 COLOURED  FLYING DUCKS</td>\n",
       "      <td>-1</td>\n",
       "      <td>2010-12-01 09:49:00</td>\n",
       "      <td>4.65</td>\n",
       "      <td>15311.0</td>\n",
       "      <td>United Kingdom</td>\n",
       "    </tr>\n",
       "    <tr>\n",
       "      <th>235</th>\n",
       "      <td>C536391</td>\n",
       "      <td>22556</td>\n",
       "      <td>PLASTERS IN TIN CIRCUS PARADE</td>\n",
       "      <td>-12</td>\n",
       "      <td>2010-12-01 10:24:00</td>\n",
       "      <td>1.65</td>\n",
       "      <td>17548.0</td>\n",
       "      <td>United Kingdom</td>\n",
       "    </tr>\n",
       "    <tr>\n",
       "      <th>236</th>\n",
       "      <td>C536391</td>\n",
       "      <td>21984</td>\n",
       "      <td>PACK OF 12 PINK PAISLEY TISSUES</td>\n",
       "      <td>-24</td>\n",
       "      <td>2010-12-01 10:24:00</td>\n",
       "      <td>0.29</td>\n",
       "      <td>17548.0</td>\n",
       "      <td>United Kingdom</td>\n",
       "    </tr>\n",
       "    <tr>\n",
       "      <th>237</th>\n",
       "      <td>C536391</td>\n",
       "      <td>21983</td>\n",
       "      <td>PACK OF 12 BLUE PAISLEY TISSUES</td>\n",
       "      <td>-24</td>\n",
       "      <td>2010-12-01 10:24:00</td>\n",
       "      <td>0.29</td>\n",
       "      <td>17548.0</td>\n",
       "      <td>United Kingdom</td>\n",
       "    </tr>\n",
       "    <tr>\n",
       "      <th>...</th>\n",
       "      <td>...</td>\n",
       "      <td>...</td>\n",
       "      <td>...</td>\n",
       "      <td>...</td>\n",
       "      <td>...</td>\n",
       "      <td>...</td>\n",
       "      <td>...</td>\n",
       "      <td>...</td>\n",
       "    </tr>\n",
       "    <tr>\n",
       "      <th>24932</th>\n",
       "      <td>C538350</td>\n",
       "      <td>82551</td>\n",
       "      <td>LAUNDRY 15C METAL SIGN</td>\n",
       "      <td>-1</td>\n",
       "      <td>2010-12-10 15:01:00</td>\n",
       "      <td>1.25</td>\n",
       "      <td>13798.0</td>\n",
       "      <td>United Kingdom</td>\n",
       "    </tr>\n",
       "    <tr>\n",
       "      <th>24933</th>\n",
       "      <td>C538350</td>\n",
       "      <td>35924</td>\n",
       "      <td>HANGING FAIRY CAKE DECORATION</td>\n",
       "      <td>-15</td>\n",
       "      <td>2010-12-10 15:01:00</td>\n",
       "      <td>1.69</td>\n",
       "      <td>13798.0</td>\n",
       "      <td>United Kingdom</td>\n",
       "    </tr>\n",
       "    <tr>\n",
       "      <th>24934</th>\n",
       "      <td>C538350</td>\n",
       "      <td>22064</td>\n",
       "      <td>PINK DOUGHNUT TRINKET POT</td>\n",
       "      <td>-4</td>\n",
       "      <td>2010-12-10 15:01:00</td>\n",
       "      <td>1.45</td>\n",
       "      <td>13798.0</td>\n",
       "      <td>United Kingdom</td>\n",
       "    </tr>\n",
       "    <tr>\n",
       "      <th>24935</th>\n",
       "      <td>C538350</td>\n",
       "      <td>22065</td>\n",
       "      <td>CHRISTMAS PUDDING TRINKET POT</td>\n",
       "      <td>-4</td>\n",
       "      <td>2010-12-10 15:01:00</td>\n",
       "      <td>1.25</td>\n",
       "      <td>13798.0</td>\n",
       "      <td>United Kingdom</td>\n",
       "    </tr>\n",
       "    <tr>\n",
       "      <th>24936</th>\n",
       "      <td>C538350</td>\n",
       "      <td>21232</td>\n",
       "      <td>STRAWBERRY CERAMIC TRINKET BOX</td>\n",
       "      <td>-4</td>\n",
       "      <td>2010-12-10 15:01:00</td>\n",
       "      <td>1.06</td>\n",
       "      <td>13798.0</td>\n",
       "      <td>United Kingdom</td>\n",
       "    </tr>\n",
       "  </tbody>\n",
       "</table>\n",
       "<p>464 rows × 8 columns</p>\n",
       "</div>"
      ],
      "text/plain": [
       "      InvoiceNo StockCode                       Description  Quantity  \\\n",
       "141     C536379         D                          Discount        -1   \n",
       "154     C536383    35004C   SET OF 3 COLOURED  FLYING DUCKS        -1   \n",
       "235     C536391     22556    PLASTERS IN TIN CIRCUS PARADE        -12   \n",
       "236     C536391     21984  PACK OF 12 PINK PAISLEY TISSUES        -24   \n",
       "237     C536391     21983  PACK OF 12 BLUE PAISLEY TISSUES        -24   \n",
       "...         ...       ...                               ...       ...   \n",
       "24932   C538350     82551            LAUNDRY 15C METAL SIGN        -1   \n",
       "24933   C538350     35924     HANGING FAIRY CAKE DECORATION       -15   \n",
       "24934   C538350     22064        PINK DOUGHNUT TRINKET POT         -4   \n",
       "24935   C538350     22065    CHRISTMAS PUDDING TRINKET POT         -4   \n",
       "24936   C538350     21232    STRAWBERRY CERAMIC TRINKET BOX        -4   \n",
       "\n",
       "              InvoiceDate  UnitPrice  CustomerID         Country  \n",
       "141   2010-12-01 09:41:00      27.50     14527.0  United Kingdom  \n",
       "154   2010-12-01 09:49:00       4.65     15311.0  United Kingdom  \n",
       "235   2010-12-01 10:24:00       1.65     17548.0  United Kingdom  \n",
       "236   2010-12-01 10:24:00       0.29     17548.0  United Kingdom  \n",
       "237   2010-12-01 10:24:00       0.29     17548.0  United Kingdom  \n",
       "...                   ...        ...         ...             ...  \n",
       "24932 2010-12-10 15:01:00       1.25     13798.0  United Kingdom  \n",
       "24933 2010-12-10 15:01:00       1.69     13798.0  United Kingdom  \n",
       "24934 2010-12-10 15:01:00       1.45     13798.0  United Kingdom  \n",
       "24935 2010-12-10 15:01:00       1.25     13798.0  United Kingdom  \n",
       "24936 2010-12-10 15:01:00       1.06     13798.0  United Kingdom  \n",
       "\n",
       "[464 rows x 8 columns]"
      ]
     },
     "execution_count": 13,
     "metadata": {},
     "output_type": "execute_result"
    }
   ],
   "source": [
    "sales[sales[\"Quantity\"] < 0]"
   ]
  },
  {
   "cell_type": "code",
   "execution_count": 14,
   "id": "61dca580-b50e-4867-ba56-597ac49f2f37",
   "metadata": {},
   "outputs": [
    {
     "data": {
      "text/html": [
       "<div>\n",
       "<style scoped>\n",
       "    .dataframe tbody tr th:only-of-type {\n",
       "        vertical-align: middle;\n",
       "    }\n",
       "\n",
       "    .dataframe tbody tr th {\n",
       "        vertical-align: top;\n",
       "    }\n",
       "\n",
       "    .dataframe thead th {\n",
       "        text-align: right;\n",
       "    }\n",
       "</style>\n",
       "<table border=\"1\" class=\"dataframe\">\n",
       "  <thead>\n",
       "    <tr style=\"text-align: right;\">\n",
       "      <th></th>\n",
       "      <th>InvoiceNo</th>\n",
       "      <th>StockCode</th>\n",
       "      <th>Description</th>\n",
       "      <th>Quantity</th>\n",
       "      <th>InvoiceDate</th>\n",
       "      <th>UnitPrice</th>\n",
       "      <th>CustomerID</th>\n",
       "      <th>Country</th>\n",
       "    </tr>\n",
       "  </thead>\n",
       "  <tbody>\n",
       "  </tbody>\n",
       "</table>\n",
       "</div>"
      ],
      "text/plain": [
       "Empty DataFrame\n",
       "Columns: [InvoiceNo, StockCode, Description, Quantity, InvoiceDate, UnitPrice, CustomerID, Country]\n",
       "Index: []"
      ]
     },
     "execution_count": 14,
     "metadata": {},
     "output_type": "execute_result"
    }
   ],
   "source": [
    "sales[sales[\"UnitPrice\"] < 0]"
   ]
  },
  {
   "cell_type": "code",
   "execution_count": 15,
   "id": "328ec8d0-ecdb-4d8c-b3e4-0b703614e1eb",
   "metadata": {},
   "outputs": [
    {
     "data": {
      "text/plain": [
       "8944"
      ]
     },
     "execution_count": 15,
     "metadata": {},
     "output_type": "execute_result"
    }
   ],
   "source": [
    "sales[\"CustomerID\"].isnull().sum()"
   ]
  },
  {
   "cell_type": "code",
   "execution_count": 16,
   "id": "c93a5558-2ea3-4056-b7f6-2c0c329abd9f",
   "metadata": {},
   "outputs": [
    {
     "data": {
      "text/plain": [
       "111"
      ]
     },
     "execution_count": 16,
     "metadata": {},
     "output_type": "execute_result"
    }
   ],
   "source": [
    "sales[\"Description\"].isnull().sum()"
   ]
  },
  {
   "cell_type": "code",
   "execution_count": 17,
   "id": "d7bf922f-e608-4d17-90a3-a8d76b2893ca",
   "metadata": {},
   "outputs": [
    {
     "data": {
      "text/plain": [
       "352"
      ]
     },
     "execution_count": 17,
     "metadata": {},
     "output_type": "execute_result"
    }
   ],
   "source": [
    "sales.duplicated().sum()"
   ]
  },
  {
   "cell_type": "code",
   "execution_count": 18,
   "id": "793729ce-ea10-4d75-999f-2af96f3f1e6e",
   "metadata": {},
   "outputs": [
    {
     "data": {
      "text/plain": [
       "(Timestamp('2010-12-01 08:26:00'), Timestamp('2010-12-10 15:17:00'))"
      ]
     },
     "execution_count": 18,
     "metadata": {},
     "output_type": "execute_result"
    }
   ],
   "source": [
    "sales['InvoiceDate'].min(), sales['InvoiceDate'].max()"
   ]
  },
  {
   "cell_type": "code",
   "execution_count": 19,
   "id": "292037c9-990c-40b7-832a-46a4a0150575",
   "metadata": {},
   "outputs": [
    {
     "data": {
      "text/plain": [
       "count    25000.000000\n",
       "mean         7.252680\n",
       "std         70.411142\n",
       "min      -9360.000000\n",
       "25%          1.000000\n",
       "50%          2.000000\n",
       "75%          6.000000\n",
       "max       2880.000000\n",
       "Name: Quantity, dtype: float64"
      ]
     },
     "execution_count": 19,
     "metadata": {},
     "output_type": "execute_result"
    }
   ],
   "source": [
    "sales['Quantity'].describe()"
   ]
  },
  {
   "cell_type": "code",
   "execution_count": 20,
   "id": "30cc069a-9048-455f-8370-ba9978581e25",
   "metadata": {},
   "outputs": [
    {
     "data": {
      "text/plain": [
       "count    25000.000000\n",
       "mean         7.108175\n",
       "std        181.004981\n",
       "min          0.000000\n",
       "25%          1.450000\n",
       "50%          2.510000\n",
       "75%          4.250000\n",
       "max      13541.330000\n",
       "Name: UnitPrice, dtype: float64"
      ]
     },
     "execution_count": 20,
     "metadata": {},
     "output_type": "execute_result"
    }
   ],
   "source": [
    "sales['UnitPrice'].describe()"
   ]
  },
  {
   "cell_type": "code",
   "execution_count": 21,
   "id": "aecccb52-3f6b-4ceb-9266-44d9c99aafac",
   "metadata": {},
   "outputs": [
    {
     "data": {
      "text/plain": [
       "8944"
      ]
     },
     "execution_count": 21,
     "metadata": {},
     "output_type": "execute_result"
    }
   ],
   "source": [
    "sales['CustomerID'].isnull().sum()"
   ]
  },
  {
   "cell_type": "markdown",
   "id": "d3075a2d-d22c-499a-b281-a9b6d2298e2e",
   "metadata": {},
   "source": [
    "\n",
    "  \n",
    "### Initial Observations\n",
    "\n",
    "- The dataset contains 25,000 transactions with 8 columns.\n",
    "- The `InvoiceDate` column is correctly parsed as datetime.\n",
    "- Some missing values are present in `Description` and `CustomerID`.\n",
    "- Memory usage is approximately **1.5 MB**.\n",
    "- There are 1166 unique invoices, 2540 unique products, 18 unique countries, and 654 unique customers.\n",
    "\n",
    "### Data Quality Issues Identified:\n",
    "- **Missing CustomerID**: 8,944 rows (35.8%)\n",
    "- **Returns**: 464 negative quantities\n",
    "- **Missing descriptions**: 111 rows (0.4%)\n",
    "- **Duplicates**: 352 rows (1.4%)\n",
    "- **Zero prices**: Some products with £0.00 price\n"
   ]
  },
  {
   "cell_type": "markdown",
   "id": "06c6cae3-e356-4b80-81bb-ca83e7fe182f",
   "metadata": {},
   "source": [
    "## Data Cleaning and Feature Engineering"
   ]
  },
  {
   "cell_type": "code",
   "execution_count": 22,
   "id": "a110231c-695d-4809-b3c7-a7dd43176e30",
   "metadata": {},
   "outputs": [],
   "source": [
    "sales[\"Description\"] = sales[\"Description\"].fillna(\"Unknow Product\")"
   ]
  },
  {
   "cell_type": "code",
   "execution_count": 23,
   "id": "e248e471-6f64-41de-9df0-1fd7696af286",
   "metadata": {},
   "outputs": [],
   "source": [
    "sales[\"CustomerID\"] = sales[\"CustomerID\"].fillna(\"GUEST_CUSTOMER\")"
   ]
  },
  {
   "cell_type": "code",
   "execution_count": 24,
   "id": "34652135-57f9-43e3-8a5f-3d864ad79c18",
   "metadata": {},
   "outputs": [
    {
     "name": "stdout",
     "output_type": "stream",
     "text": [
      "Percentage: 1.86%\n"
     ]
    }
   ],
   "source": [
    "negative_count = sales[sales[\"Quantity\"] < 0].shape[0]\n",
    "percentage = (464 / len(sales)) * 100\n",
    "print(f\"Percentage: {percentage:.2f}%\")"
   ]
  },
  {
   "cell_type": "code",
   "execution_count": 25,
   "id": "76a8e29f-dd2b-4c4e-b954-257c48d84b90",
   "metadata": {},
   "outputs": [],
   "source": [
    "sales = sales[sales[\"Quantity\"] > 0]"
   ]
  },
  {
   "cell_type": "code",
   "execution_count": 26,
   "id": "77013d5e-5079-46d0-a6c5-5d4689abe875",
   "metadata": {},
   "outputs": [
    {
     "data": {
      "text/plain": [
       "(24536, 8)"
      ]
     },
     "execution_count": 26,
     "metadata": {},
     "output_type": "execute_result"
    }
   ],
   "source": [
    "sales.shape"
   ]
  },
  {
   "cell_type": "code",
   "execution_count": 27,
   "id": "ed8fef53-92e1-44c6-bf30-9f45f3f0af8b",
   "metadata": {},
   "outputs": [
    {
     "name": "stdout",
     "output_type": "stream",
     "text": [
      "<class 'pandas.core.frame.DataFrame'>\n",
      "Index: 24536 entries, 0 to 24999\n",
      "Data columns (total 8 columns):\n",
      " #   Column       Non-Null Count  Dtype         \n",
      "---  ------       --------------  -----         \n",
      " 0   InvoiceNo    24536 non-null  object        \n",
      " 1   StockCode    24536 non-null  object        \n",
      " 2   Description  24536 non-null  object        \n",
      " 3   Quantity     24536 non-null  int64         \n",
      " 4   InvoiceDate  24536 non-null  datetime64[ns]\n",
      " 5   UnitPrice    24536 non-null  float64       \n",
      " 6   CustomerID   24536 non-null  object        \n",
      " 7   Country      24536 non-null  object        \n",
      "dtypes: datetime64[ns](1), float64(1), int64(1), object(5)\n",
      "memory usage: 1.7+ MB\n"
     ]
    }
   ],
   "source": [
    "sales.info()"
   ]
  },
  {
   "cell_type": "markdown",
   "id": "7238f7e7-816f-4f1f-8d08-ef8d8eb70c15",
   "metadata": {},
   "source": [
    " - create new columns"
   ]
  },
  {
   "cell_type": "code",
   "execution_count": 28,
   "id": "76a9030c-a730-447e-9704-913834b48763",
   "metadata": {},
   "outputs": [],
   "source": [
    "sales[\"TotalAmount\"] = sales[\"Quantity\"] * sales[\"UnitPrice\"]"
   ]
  },
  {
   "cell_type": "code",
   "execution_count": 29,
   "id": "297165fd-75ce-430a-bf40-c16c5fd024c3",
   "metadata": {},
   "outputs": [],
   "source": [
    "sales[\"Date\"] = sales[\"InvoiceDate\"].dt.date"
   ]
  },
  {
   "cell_type": "code",
   "execution_count": 30,
   "id": "dc5294b0-a062-470d-8874-51f8c038917a",
   "metadata": {},
   "outputs": [],
   "source": [
    "sales[\"Hour\"] = sales[\"InvoiceDate\"].dt.hour"
   ]
  },
  {
   "cell_type": "code",
   "execution_count": 31,
   "id": "d7afa297-95d7-4d19-b719-260d1cdbc480",
   "metadata": {},
   "outputs": [],
   "source": [
    "sales['DayOfWeek'] = sales[\"InvoiceDate\"].dt.day_name()"
   ]
  },
  {
   "cell_type": "markdown",
   "id": "7471ff86-96de-45fa-a1a2-268e54c24fe5",
   "metadata": {},
   "source": [
    "## Optimize Memory Usage\n"
   ]
  },
  {
   "cell_type": "code",
   "execution_count": 32,
   "id": "3b5548f6-0c37-487c-bd6c-599fa4c0622c",
   "metadata": {},
   "outputs": [],
   "source": [
    "sales[\"StockCode\"] = sales[\"StockCode\"].astype(\"category\")"
   ]
  },
  {
   "cell_type": "code",
   "execution_count": 33,
   "id": "2549a2b3-73ee-4de8-80f0-c0ba13627330",
   "metadata": {},
   "outputs": [],
   "source": [
    "sales[\"Description\"] =  sales[\"Description\"].astype(\"category\")"
   ]
  },
  {
   "cell_type": "code",
   "execution_count": 34,
   "id": "658b99ef-d21f-4b6a-99b9-6249f22339f3",
   "metadata": {},
   "outputs": [],
   "source": [
    "sales[\"Country\"] =  sales[\"Country\"].astype(\"category\")"
   ]
  },
  {
   "cell_type": "code",
   "execution_count": 35,
   "id": "d04b3f7b-c830-426f-a12f-26ff6f4ae1e3",
   "metadata": {},
   "outputs": [],
   "source": [
    "sales[\"InvoiceNo\"] = sales[\"InvoiceNo\"].astype(\"category\")"
   ]
  },
  {
   "cell_type": "code",
   "execution_count": 36,
   "id": "ce407b16-8391-4056-8880-f04449bb8d5c",
   "metadata": {},
   "outputs": [],
   "source": [
    "sales['CustomerID'] = sales['CustomerID'].astype('category')"
   ]
  },
  {
   "cell_type": "code",
   "execution_count": 37,
   "id": "e724ce53-8151-4ea9-99c2-92d9eddfc164",
   "metadata": {},
   "outputs": [],
   "source": [
    "sales['DayOfWeek'] = sales['DayOfWeek'].astype('category')"
   ]
  },
  {
   "cell_type": "code",
   "execution_count": 38,
   "id": "40a69878-bd76-439e-8936-987e7596e5b4",
   "metadata": {},
   "outputs": [
    {
     "name": "stdout",
     "output_type": "stream",
     "text": [
      "<class 'pandas.core.frame.DataFrame'>\n",
      "Index: 24536 entries, 0 to 24999\n",
      "Data columns (total 12 columns):\n",
      " #   Column       Non-Null Count  Dtype         \n",
      "---  ------       --------------  -----         \n",
      " 0   InvoiceNo    24536 non-null  category      \n",
      " 1   StockCode    24536 non-null  category      \n",
      " 2   Description  24536 non-null  category      \n",
      " 3   Quantity     24536 non-null  int64         \n",
      " 4   InvoiceDate  24536 non-null  datetime64[ns]\n",
      " 5   UnitPrice    24536 non-null  float64       \n",
      " 6   CustomerID   24536 non-null  category      \n",
      " 7   Country      24536 non-null  category      \n",
      " 8   TotalAmount  24536 non-null  float64       \n",
      " 9   Date         24536 non-null  object        \n",
      " 10  Hour         24536 non-null  int32         \n",
      " 11  DayOfWeek    24536 non-null  category      \n",
      "dtypes: category(6), datetime64[ns](1), float64(2), int32(1), int64(1), object(1)\n",
      "memory usage: 2.7 MB\n",
      "None\n"
     ]
    }
   ],
   "source": [
    "print(sales.info(memory_usage='deep'))"
   ]
  },
  {
   "cell_type": "markdown",
   "id": "d8be4367-3527-4fd4-8021-a41a41959a55",
   "metadata": {},
   "source": [
    "### After adding new columns, the memory usage rises to 9.3 MB, applying this optimization reduces it to 2.7 MB"
   ]
  },
  {
   "cell_type": "code",
   "execution_count": 39,
   "id": "4d57359b-46d7-4b48-a410-6d61443cb984",
   "metadata": {},
   "outputs": [
    {
     "data": {
      "text/html": [
       "<div>\n",
       "<style scoped>\n",
       "    .dataframe tbody tr th:only-of-type {\n",
       "        vertical-align: middle;\n",
       "    }\n",
       "\n",
       "    .dataframe tbody tr th {\n",
       "        vertical-align: top;\n",
       "    }\n",
       "\n",
       "    .dataframe thead th {\n",
       "        text-align: right;\n",
       "    }\n",
       "</style>\n",
       "<table border=\"1\" class=\"dataframe\">\n",
       "  <thead>\n",
       "    <tr style=\"text-align: right;\">\n",
       "      <th></th>\n",
       "      <th>Quantity</th>\n",
       "      <th>InvoiceDate</th>\n",
       "      <th>UnitPrice</th>\n",
       "      <th>TotalAmount</th>\n",
       "      <th>Hour</th>\n",
       "    </tr>\n",
       "  </thead>\n",
       "  <tbody>\n",
       "    <tr>\n",
       "      <th>count</th>\n",
       "      <td>24536.000000</td>\n",
       "      <td>24536</td>\n",
       "      <td>24536.000000</td>\n",
       "      <td>24536.000000</td>\n",
       "      <td>24536.000000</td>\n",
       "    </tr>\n",
       "    <tr>\n",
       "      <th>mean</th>\n",
       "      <td>8.061664</td>\n",
       "      <td>2010-12-06 07:00:33.783012608</td>\n",
       "      <td>4.953149</td>\n",
       "      <td>19.621201</td>\n",
       "      <td>13.096960</td>\n",
       "    </tr>\n",
       "    <tr>\n",
       "      <th>min</th>\n",
       "      <td>1.000000</td>\n",
       "      <td>2010-12-01 08:26:00</td>\n",
       "      <td>0.000000</td>\n",
       "      <td>0.000000</td>\n",
       "      <td>7.000000</td>\n",
       "    </tr>\n",
       "    <tr>\n",
       "      <th>25%</th>\n",
       "      <td>1.000000</td>\n",
       "      <td>2010-12-03 11:36:00</td>\n",
       "      <td>1.450000</td>\n",
       "      <td>3.360000</td>\n",
       "      <td>11.000000</td>\n",
       "    </tr>\n",
       "    <tr>\n",
       "      <th>50%</th>\n",
       "      <td>2.000000</td>\n",
       "      <td>2010-12-06 13:01:00</td>\n",
       "      <td>2.510000</td>\n",
       "      <td>8.400000</td>\n",
       "      <td>13.000000</td>\n",
       "    </tr>\n",
       "    <tr>\n",
       "      <th>75%</th>\n",
       "      <td>6.000000</td>\n",
       "      <td>2010-12-08 14:25:00</td>\n",
       "      <td>4.250000</td>\n",
       "      <td>16.980000</td>\n",
       "      <td>15.000000</td>\n",
       "    </tr>\n",
       "    <tr>\n",
       "      <th>max</th>\n",
       "      <td>2880.000000</td>\n",
       "      <td>2010-12-10 15:17:00</td>\n",
       "      <td>13541.330000</td>\n",
       "      <td>13541.330000</td>\n",
       "      <td>20.000000</td>\n",
       "    </tr>\n",
       "    <tr>\n",
       "      <th>std</th>\n",
       "      <td>37.738735</td>\n",
       "      <td>NaN</td>\n",
       "      <td>89.210301</td>\n",
       "      <td>116.202244</td>\n",
       "      <td>2.427463</td>\n",
       "    </tr>\n",
       "  </tbody>\n",
       "</table>\n",
       "</div>"
      ],
      "text/plain": [
       "           Quantity                    InvoiceDate     UnitPrice  \\\n",
       "count  24536.000000                          24536  24536.000000   \n",
       "mean       8.061664  2010-12-06 07:00:33.783012608      4.953149   \n",
       "min        1.000000            2010-12-01 08:26:00      0.000000   \n",
       "25%        1.000000            2010-12-03 11:36:00      1.450000   \n",
       "50%        2.000000            2010-12-06 13:01:00      2.510000   \n",
       "75%        6.000000            2010-12-08 14:25:00      4.250000   \n",
       "max     2880.000000            2010-12-10 15:17:00  13541.330000   \n",
       "std       37.738735                            NaN     89.210301   \n",
       "\n",
       "        TotalAmount          Hour  \n",
       "count  24536.000000  24536.000000  \n",
       "mean      19.621201     13.096960  \n",
       "min        0.000000      7.000000  \n",
       "25%        3.360000     11.000000  \n",
       "50%        8.400000     13.000000  \n",
       "75%       16.980000     15.000000  \n",
       "max    13541.330000     20.000000  \n",
       "std      116.202244      2.427463  "
      ]
     },
     "execution_count": 39,
     "metadata": {},
     "output_type": "execute_result"
    }
   ],
   "source": [
    "sales.describe()"
   ]
  },
  {
   "cell_type": "code",
   "execution_count": 40,
   "id": "ce8c6cd0-b786-4bca-8db6-872a01dd5853",
   "metadata": {},
   "outputs": [
    {
     "data": {
      "text/html": [
       "<div>\n",
       "<style scoped>\n",
       "    .dataframe tbody tr th:only-of-type {\n",
       "        vertical-align: middle;\n",
       "    }\n",
       "\n",
       "    .dataframe tbody tr th {\n",
       "        vertical-align: top;\n",
       "    }\n",
       "\n",
       "    .dataframe thead th {\n",
       "        text-align: right;\n",
       "    }\n",
       "</style>\n",
       "<table border=\"1\" class=\"dataframe\">\n",
       "  <thead>\n",
       "    <tr style=\"text-align: right;\">\n",
       "      <th></th>\n",
       "      <th>InvoiceNo</th>\n",
       "      <th>StockCode</th>\n",
       "      <th>Description</th>\n",
       "      <th>Quantity</th>\n",
       "      <th>InvoiceDate</th>\n",
       "      <th>UnitPrice</th>\n",
       "      <th>CustomerID</th>\n",
       "      <th>Country</th>\n",
       "      <th>TotalAmount</th>\n",
       "      <th>Date</th>\n",
       "      <th>Hour</th>\n",
       "      <th>DayOfWeek</th>\n",
       "    </tr>\n",
       "  </thead>\n",
       "  <tbody>\n",
       "    <tr>\n",
       "      <th>0</th>\n",
       "      <td>536365</td>\n",
       "      <td>85123A</td>\n",
       "      <td>WHITE HANGING HEART T-LIGHT HOLDER</td>\n",
       "      <td>6</td>\n",
       "      <td>2010-12-01 08:26:00</td>\n",
       "      <td>2.55</td>\n",
       "      <td>17850.0</td>\n",
       "      <td>United Kingdom</td>\n",
       "      <td>15.30</td>\n",
       "      <td>2010-12-01</td>\n",
       "      <td>8</td>\n",
       "      <td>Wednesday</td>\n",
       "    </tr>\n",
       "    <tr>\n",
       "      <th>1</th>\n",
       "      <td>536365</td>\n",
       "      <td>71053</td>\n",
       "      <td>WHITE METAL LANTERN</td>\n",
       "      <td>6</td>\n",
       "      <td>2010-12-01 08:26:00</td>\n",
       "      <td>3.39</td>\n",
       "      <td>17850.0</td>\n",
       "      <td>United Kingdom</td>\n",
       "      <td>20.34</td>\n",
       "      <td>2010-12-01</td>\n",
       "      <td>8</td>\n",
       "      <td>Wednesday</td>\n",
       "    </tr>\n",
       "    <tr>\n",
       "      <th>2</th>\n",
       "      <td>536365</td>\n",
       "      <td>84406B</td>\n",
       "      <td>CREAM CUPID HEARTS COAT HANGER</td>\n",
       "      <td>8</td>\n",
       "      <td>2010-12-01 08:26:00</td>\n",
       "      <td>2.75</td>\n",
       "      <td>17850.0</td>\n",
       "      <td>United Kingdom</td>\n",
       "      <td>22.00</td>\n",
       "      <td>2010-12-01</td>\n",
       "      <td>8</td>\n",
       "      <td>Wednesday</td>\n",
       "    </tr>\n",
       "    <tr>\n",
       "      <th>3</th>\n",
       "      <td>536365</td>\n",
       "      <td>84029G</td>\n",
       "      <td>KNITTED UNION FLAG HOT WATER BOTTLE</td>\n",
       "      <td>6</td>\n",
       "      <td>2010-12-01 08:26:00</td>\n",
       "      <td>3.39</td>\n",
       "      <td>17850.0</td>\n",
       "      <td>United Kingdom</td>\n",
       "      <td>20.34</td>\n",
       "      <td>2010-12-01</td>\n",
       "      <td>8</td>\n",
       "      <td>Wednesday</td>\n",
       "    </tr>\n",
       "    <tr>\n",
       "      <th>4</th>\n",
       "      <td>536365</td>\n",
       "      <td>84029E</td>\n",
       "      <td>RED WOOLLY HOTTIE WHITE HEART.</td>\n",
       "      <td>6</td>\n",
       "      <td>2010-12-01 08:26:00</td>\n",
       "      <td>3.39</td>\n",
       "      <td>17850.0</td>\n",
       "      <td>United Kingdom</td>\n",
       "      <td>20.34</td>\n",
       "      <td>2010-12-01</td>\n",
       "      <td>8</td>\n",
       "      <td>Wednesday</td>\n",
       "    </tr>\n",
       "  </tbody>\n",
       "</table>\n",
       "</div>"
      ],
      "text/plain": [
       "  InvoiceNo StockCode                          Description  Quantity  \\\n",
       "0    536365    85123A   WHITE HANGING HEART T-LIGHT HOLDER         6   \n",
       "1    536365     71053                  WHITE METAL LANTERN         6   \n",
       "2    536365    84406B       CREAM CUPID HEARTS COAT HANGER         8   \n",
       "3    536365    84029G  KNITTED UNION FLAG HOT WATER BOTTLE         6   \n",
       "4    536365    84029E       RED WOOLLY HOTTIE WHITE HEART.         6   \n",
       "\n",
       "          InvoiceDate  UnitPrice CustomerID         Country  TotalAmount  \\\n",
       "0 2010-12-01 08:26:00       2.55    17850.0  United Kingdom        15.30   \n",
       "1 2010-12-01 08:26:00       3.39    17850.0  United Kingdom        20.34   \n",
       "2 2010-12-01 08:26:00       2.75    17850.0  United Kingdom        22.00   \n",
       "3 2010-12-01 08:26:00       3.39    17850.0  United Kingdom        20.34   \n",
       "4 2010-12-01 08:26:00       3.39    17850.0  United Kingdom        20.34   \n",
       "\n",
       "         Date  Hour  DayOfWeek  \n",
       "0  2010-12-01     8  Wednesday  \n",
       "1  2010-12-01     8  Wednesday  \n",
       "2  2010-12-01     8  Wednesday  \n",
       "3  2010-12-01     8  Wednesday  \n",
       "4  2010-12-01     8  Wednesday  "
      ]
     },
     "execution_count": 40,
     "metadata": {},
     "output_type": "execute_result"
    }
   ],
   "source": [
    "sales.head()"
   ]
  },
  {
   "cell_type": "code",
   "execution_count": 41,
   "id": "9a45c4cb-b478-49ed-8d2a-6fd7e800eb5d",
   "metadata": {},
   "outputs": [
    {
     "name": "stdout",
     "output_type": "stream",
     "text": [
      "Number of duplicates: 343\n"
     ]
    }
   ],
   "source": [
    "print(f\"Number of duplicates: {sales.duplicated().sum()}\")"
   ]
  },
  {
   "cell_type": "code",
   "execution_count": 42,
   "id": "b194aab5-2fcf-4b5e-87f2-1ff106c3ae79",
   "metadata": {},
   "outputs": [
    {
     "name": "stdout",
     "output_type": "stream",
     "text": [
      "Number of duplicates: 0\n"
     ]
    }
   ],
   "source": [
    "sales_clean = sales.drop_duplicates()\n",
    "print(f\"Number of duplicates: {sales_clean.duplicated().sum()}\")"
   ]
  },
  {
   "cell_type": "code",
   "execution_count": 43,
   "id": "b448e174-6b4d-4538-a5a9-65703345488b",
   "metadata": {},
   "outputs": [
    {
     "name": "stdout",
     "output_type": "stream",
     "text": [
      "Min:0.0\n",
      "Max:13541.33\n",
      "Average:19.84\n"
     ]
    }
   ],
   "source": [
    "# Check Unit Price Column\n",
    "print(f\"Min:{ sales_clean['UnitPrice'].min()}\")\n",
    "print(f\"Max:{sales_clean['UnitPrice'].max()}\")\n",
    "print(f\"Average:{sales_clean['TotalAmount'].mean():.2f}\")\n"
   ]
  },
  {
   "cell_type": "code",
   "execution_count": 44,
   "id": "ef875a44-551e-42c8-bb43-0ea867ba19c7",
   "metadata": {},
   "outputs": [
    {
     "name": "stdout",
     "output_type": "stream",
     "text": [
      "Min:0.07\n"
     ]
    }
   ],
   "source": [
    "sales_clean = sales_clean[sales_clean[\"UnitPrice\"] > 0]\n",
    "print(f\"Min:{ sales_clean['UnitPrice'].min()}\")"
   ]
  },
  {
   "cell_type": "code",
   "execution_count": 45,
   "id": "63a7299e-edb3-499b-ab95-d456a883f5ef",
   "metadata": {},
   "outputs": [
    {
     "name": "stdout",
     "output_type": "stream",
     "text": [
      "Total rows: 24078\n",
      "Total columns: 12\n",
      "\n",
      "Missing values:\n",
      "InvoiceNo      0\n",
      "StockCode      0\n",
      "Description    0\n",
      "Quantity       0\n",
      "InvoiceDate    0\n",
      "UnitPrice      0\n",
      "CustomerID     0\n",
      "Country        0\n",
      "TotalAmount    0\n",
      "Date           0\n",
      "Hour           0\n",
      "DayOfWeek      0\n",
      "dtype: int64\n",
      "\n",
      "Data types:\n",
      "InvoiceNo            category\n",
      "StockCode            category\n",
      "Description          category\n",
      "Quantity                int64\n",
      "InvoiceDate    datetime64[ns]\n",
      "UnitPrice             float64\n",
      "CustomerID           category\n",
      "Country              category\n",
      "TotalAmount           float64\n",
      "Date                   object\n",
      "Hour                    int32\n",
      "DayOfWeek            category\n",
      "dtype: object\n"
     ]
    }
   ],
   "source": [
    "\n",
    "# Quick check if data is ready for analysis\n",
    "# 1. Check data size\n",
    "print(f\"Total rows: {len(sales_clean)}\")\n",
    "print(f\"Total columns: {len(sales_clean.columns)}\")\n",
    "\n",
    "# 2. Check missing values\n",
    "print(f\"\\nMissing values:\")\n",
    "print(sales_clean.isnull().sum())\n",
    "\n",
    "# 3. Check data types\n",
    "print(f\"\\nData types:\")\n",
    "print(sales_clean.dtypes)\n"
   ]
  },
  {
   "cell_type": "code",
   "execution_count": 46,
   "id": "0ce949df-7164-4921-a408-60124f385d82",
   "metadata": {},
   "outputs": [
    {
     "name": "stdout",
     "output_type": "stream",
     "text": [
      "<class 'pandas.core.frame.DataFrame'>\n",
      "Index: 24078 entries, 0 to 24999\n",
      "Data columns (total 12 columns):\n",
      " #   Column       Non-Null Count  Dtype         \n",
      "---  ------       --------------  -----         \n",
      " 0   InvoiceNo    24078 non-null  category      \n",
      " 1   StockCode    24078 non-null  category      \n",
      " 2   Description  24078 non-null  category      \n",
      " 3   Quantity     24078 non-null  int64         \n",
      " 4   InvoiceDate  24078 non-null  datetime64[ns]\n",
      " 5   UnitPrice    24078 non-null  float64       \n",
      " 6   CustomerID   24078 non-null  category      \n",
      " 7   Country      24078 non-null  category      \n",
      " 8   TotalAmount  24078 non-null  float64       \n",
      " 9   Date         24078 non-null  object        \n",
      " 10  Hour         24078 non-null  int32         \n",
      " 11  DayOfWeek    24078 non-null  category      \n",
      "dtypes: category(6), datetime64[ns](1), float64(2), int32(1), int64(1), object(1)\n",
      "memory usage: 1.6+ MB\n"
     ]
    }
   ],
   "source": [
    "sales_clean.info()"
   ]
  },
  {
   "cell_type": "code",
   "execution_count": 47,
   "id": "d4fe1365-6cf6-4cb4-aa3c-d978100388f7",
   "metadata": {},
   "outputs": [
    {
     "name": "stdout",
     "output_type": "stream",
     "text": [
      "datetime64[ns]\n"
     ]
    }
   ],
   "source": [
    "sales_clean[\"Date\"] = pd.to_datetime(sales_clean[\"Date\"])\n",
    "print(sales_clean[\"Date\"].dtypes)"
   ]
  },
  {
   "cell_type": "code",
   "execution_count": 48,
   "id": "48a8d8ed-ad60-40ce-8e2b-e6c06fad52c4",
   "metadata": {},
   "outputs": [],
   "source": [
    "sales_clean.to_excel(\"cleaned_retail_data.xlsx\", index=False, engine=\"openpyxl\")"
   ]
  },
  {
   "cell_type": "code",
   "execution_count": 49,
   "id": "44b18284-8e52-42d1-8d0b-6b650e6d5fbb",
   "metadata": {},
   "outputs": [
    {
     "name": "stdout",
     "output_type": "stream",
     "text": [
      "<class 'pandas.core.frame.DataFrame'>\n",
      "Index: 24078 entries, 0 to 24999\n",
      "Data columns (total 12 columns):\n",
      " #   Column       Non-Null Count  Dtype         \n",
      "---  ------       --------------  -----         \n",
      " 0   InvoiceNo    24078 non-null  category      \n",
      " 1   StockCode    24078 non-null  category      \n",
      " 2   Description  24078 non-null  category      \n",
      " 3   Quantity     24078 non-null  int64         \n",
      " 4   InvoiceDate  24078 non-null  datetime64[ns]\n",
      " 5   UnitPrice    24078 non-null  float64       \n",
      " 6   CustomerID   24078 non-null  category      \n",
      " 7   Country      24078 non-null  category      \n",
      " 8   TotalAmount  24078 non-null  float64       \n",
      " 9   Date         24078 non-null  datetime64[ns]\n",
      " 10  Hour         24078 non-null  int32         \n",
      " 11  DayOfWeek    24078 non-null  category      \n",
      "dtypes: category(6), datetime64[ns](2), float64(2), int32(1), int64(1)\n",
      "memory usage: 1.9 MB\n"
     ]
    }
   ],
   "source": [
    "sales_clean.info(memory_usage = \"deep\")"
   ]
  },
  {
   "cell_type": "markdown",
   "id": "32cb2fc9-b0b0-41be-bb9d-34e073df53d2",
   "metadata": {},
   "source": [
    "## Data Cleaning - SUMMARY\n",
    "### Changes Made:\n",
    "- **Removed negative quantities**: 464 transactions (1.86% of data)\n",
    "- **Filled missing descriptions**: Replaced with 'Unknown Product'  \n",
    "- **Filled missing CustomerID**: Replaced with 'GUEST_CUSTOMER'\n",
    "- **removed dublicates**: 343 rows (1.4% of data)\n",
    "- **Saved cleaned data**: 'sales_clean.csv'\n",
    "-  Removed rows where UnitPrice is zero or negative (invalid prices)\n",
    "\n",
    "### Dataset Status:\n",
    "- **Final shape**: 24,078 transactions × 12 columns\n",
    "- **Data quality**: Improved, basic cleaning complete\n",
    "- **Memory usage**: 1.9+ MB\n",
    "\n"
   ]
  },
  {
   "cell_type": "markdown",
   "id": "d7d75b72-2565-4217-99ad-97075387fbe0",
   "metadata": {},
   "source": [
    "## Basic Sales Analysis"
   ]
  },
  {
   "cell_type": "code",
   "execution_count": 50,
   "id": "b53e22d9-f45d-4902-ad5c-bafba76e9643",
   "metadata": {},
   "outputs": [
    {
     "name": "stdout",
     "output_type": "stream",
     "text": [
      "480042.26\n"
     ]
    }
   ],
   "source": [
    "\n",
    "total_revenue = sales_clean[\"TotalAmount\"].sum()\n",
    "print(total_revenue)"
   ]
  },
  {
   "cell_type": "code",
   "execution_count": 51,
   "id": "e773747b-2723-4f79-9373-ce1fa5e2b9b8",
   "metadata": {},
   "outputs": [
    {
     "name": "stdout",
     "output_type": "stream",
     "text": [
      "902\n"
     ]
    }
   ],
   "source": [
    "\n",
    "number_of_transactions = sales_clean[\"InvoiceNo\"].nunique()\n",
    "print(number_of_transactions)"
   ]
  },
  {
   "cell_type": "code",
   "execution_count": 52,
   "id": "794ef0f5-d768-47de-aeb1-cafca393e486",
   "metadata": {},
   "outputs": [
    {
     "name": "stdout",
     "output_type": "stream",
     "text": [
      "609\n"
     ]
    }
   ],
   "source": [
    "\n",
    "number_of_customers = sales_clean[\"CustomerID\"].nunique()\n",
    "print(number_of_customers)"
   ]
  },
  {
   "cell_type": "code",
   "execution_count": 53,
   "id": "c573bcce-a5f5-43df-96f3-665381f60783",
   "metadata": {},
   "outputs": [
    {
     "name": "stdout",
     "output_type": "stream",
     "text": [
      "532.0\n"
     ]
    }
   ],
   "source": [
    "average_order_value = sales_clean.groupby(\"InvoiceNo\", observed = True)[\"TotalAmount\"].sum().mean().round()\n",
    "print(average_order_value)\n"
   ]
  },
  {
   "cell_type": "code",
   "execution_count": 54,
   "id": "3fcfa7b5-20a8-4dcd-a593-92fa4f75956b",
   "metadata": {},
   "outputs": [
    {
     "name": "stdout",
     "output_type": "stream",
     "text": [
      "Date\n",
      "2010-12-01    58776\n",
      "2010-12-02    47629\n",
      "2010-12-03    46898\n",
      "2010-12-05    31364\n",
      "2010-12-06    54624\n",
      "2010-12-07    99553\n",
      "2010-12-08    45235\n",
      "2010-12-09    53548\n",
      "2010-12-10    42411\n",
      "Name: TotalAmount, dtype: int32\n"
     ]
    }
   ],
   "source": [
    "daily_revenue = sales_clean.groupby(\"Date\")[\"TotalAmount\"].sum().astype(int)\n",
    "print(daily_revenue)"
   ]
  },
  {
   "cell_type": "code",
   "execution_count": 55,
   "id": "d891666b-fe7d-441b-a265-879527354ec0",
   "metadata": {},
   "outputs": [
    {
     "data": {
      "image/png": "[encoded data removed]",
      "text/plain": [
       "<Figure size 1000x500 with 1 Axes>"
      ]
     },
     "metadata": {},
     "output_type": "display_data"
    }
   ],
   "source": [
    "daily_revenue.plot(kind = \"line\", figsize = (10,5), title = \"Daily Revenue Over Time\")\n",
    "plt.xlabel(\"Date\")\n",
    "plt.ylabel(\"Total Revenue ($)\")\n",
    "plt.grid(True)\n",
    "plt.xticks(rotation = 45)\n",
    "plt.tight_layout()\n",
    "plt.show()"
   ]
  },
  {
   "cell_type": "code",
   "execution_count": 56,
   "id": "9bd0e4bb-79ca-4c59-8c07-c65a8aac7c54",
   "metadata": {},
   "outputs": [
    {
     "name": "stdout",
     "output_type": "stream",
     "text": [
      "Hour\n",
      "7       467.00\n",
      "8      4131.97\n",
      "9     42146.14\n",
      "10    53623.19\n",
      "11    45284.36\n",
      "12    52463.84\n",
      "13    46154.75\n",
      "14    63444.89\n",
      "15    80499.51\n",
      "16    66497.86\n",
      "17    15742.38\n",
      "18     8034.69\n",
      "19     1251.04\n",
      "20      300.64\n",
      "Name: TotalAmount, dtype: float64\n"
     ]
    }
   ],
   "source": [
    "\n",
    "hourly_patterns = sales_clean.groupby(\"Hour\")[\"TotalAmount\"].sum()\n",
    "print(hourly_patterns)"
   ]
  },
  {
   "cell_type": "code",
   "execution_count": 57,
   "id": "605f77a6-91d5-483c-b269-408a79153b14",
   "metadata": {
    "scrolled": true
   },
   "outputs": [
    {
     "data": {
      "image/png": "[encoded data removed]",
      "text/plain": [
       "<Figure size 1000x500 with 1 Axes>"
      ]
     },
     "metadata": {},
     "output_type": "display_data"
    }
   ],
   "source": [
    "hourly_patterns.plot(kind = \"line\", figsize = (10,5), title = \"sales by hour of day\")\n",
    "plt.xlabel(\"Hour\")\n",
    "plt.ylabel(\"TotalAmount\") \n",
    "plt.grid(True)\n",
    "plt.tight_layout()\n",
    "plt.show()\n",
    "                     "
   ]
  },
  {
   "cell_type": "markdown",
   "id": "61d16a52-5615-4521-89f9-6b8fdb7757f6",
   "metadata": {},
   "source": [
    "# Hourly Sales Analysis Summary\n",
    "## Key Findings\n",
    "\n",
    " - Sales peak dramatically in the afternoon, with **3 PM generating the highest revenue ($80,499)**\n",
    "\n",
    " -  The core business window runs from **10 AM to 4 PM**, accounting for the majority of daily sales. \n",
    "\n",
    " - Activity builds gradually through the morning, reaches maximum performance between **2-4 PM**, then drops sharply after 5 PM.\n",
    "\n",
    " -  Evening hours contribute minimal revenue, suggesting most business activity concludes by early evening.\n",
    "\n",
    "\n"
   ]
  },
  {
   "cell_type": "code",
   "execution_count": null,
   "id": "ae24ce0e-4966-43e7-a012-ab3ae935224e",
   "metadata": {},
   "outputs": [],
   "source": []
  },
  {
   "cell_type": "code",
   "execution_count": null,
   "id": "e1a843d6-382b-4c31-9ce9-d18ad86c513a",
   "metadata": {},
   "outputs": [],
   "source": []
  },
  {
   "cell_type": "code",
   "execution_count": null,
   "id": "e126c913-956b-4f3c-a191-d56f810011f0",
   "metadata": {},
   "outputs": [],
   "source": []
  },
  {
   "cell_type": "code",
   "execution_count": null,
   "id": "bcae074c-a125-4e31-9a67-4ba5c3cb4b1c",
   "metadata": {},
   "outputs": [],
   "source": []
  },
  {
   "cell_type": "code",
   "execution_count": null,
   "id": "8286627b-2adc-48da-9165-82235e93b577",
   "metadata": {},
   "outputs": [],
   "source": []
  },
  {
   "cell_type": "code",
   "execution_count": null,
   "id": "6619f8b7-64f7-49c1-a6aa-0d42d45924cd",
   "metadata": {},
   "outputs": [],
   "source": []
  },
  {
   "cell_type": "code",
   "execution_count": null,
   "id": "b63874b4-7929-44fa-a7e9-e6a1ebfdc443",
   "metadata": {},
   "outputs": [],
   "source": []
  },
  {
   "cell_type": "code",
   "execution_count": null,
   "id": "786c3126-7550-4f6e-8bd8-63bd0ea59555",
   "metadata": {},
   "outputs": [],
   "source": []
  },
  {
   "cell_type": "code",
   "execution_count": null,
   "id": "2d352505-54f4-484b-8e0a-83c97e2123fd",
   "metadata": {},
   "outputs": [],
   "source": []
  }
 ],
 "metadata": {
  "kernelspec": {
   "display_name": "Python [conda env:base] *",
   "language": "python",
   "name": "conda-base-py"
  },
  "language_info": {
   "codemirror_mode": {
    "name": "ipython",
    "version": 3
   },
   "file_extension": ".py",
   "mimetype": "text/x-python",
   "name": "python",
   "nbconvert_exporter": "python",
   "pygments_lexer": "ipython3",
   "version": "3.12.7"
  }
 },
 "nbformat": 4,
 "nbformat_minor": 5
}
