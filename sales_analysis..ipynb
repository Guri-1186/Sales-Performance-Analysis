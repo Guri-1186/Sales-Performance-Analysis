{
 "cells": [
  {
   "cell_type": "markdown",
   "id": "b8f598e8-4f98-4283-98a8-bea7f8cdf107",
   "metadata": {},
   "source": [
    "# Sales Performance Analysis Project\n",
    "\n",
    "## Project Overview\n",
    "This project analyzes retail sales data to uncover insights about:\n",
    "- Sales trends and patterns\n",
    "- Product performance\n",
    "- Customer behavior\n",
    "- Geographic distribution\n",
    "\n",
    "## Dataset\n",
    "- Source: Online Retail Dataset (UCI ML Repository)\n",
    "- Sample: 25,000 transactions\n",
    "- Columns: InvoiceNo, StockCode, Description, Quantity, InvoiceDate, UnitPrice, CustomerID, Country\n",
    "\n",
    "## Data Loading"
   ]
  },
  {
   "cell_type": "code",
   "execution_count": 1,
   "id": "ee4c2e52-6449-48cd-a993-0424330d5f33",
   "metadata": {},
   "outputs": [],
   "source": [
    "import pandas as pd\n",
    "import numpy as np\n",
    "import matplotlib.pyplot as plt\n"
   ]
  },
  {
   "cell_type": "code",
   "execution_count": null,
   "id": "42bc0272-d27e-4359-b553-b6f19182be23",
   "metadata": {},
   "outputs": [],
   "source": [
    "\n",
    "use_columns = [\"InvoiceNo\", \"StockCode\", \"Description\", \"Quantity\", \"InvoiceDate\", \"UnitPrice\", \"CustomerID\", \"Country\"]\n",
    "sales = pd.read_excel(\"Online Retail.xlsx\", usecols=use_columns, nrows=25_000)"
   ]
  },
  {
   "cell_type": "markdown",
   "id": "de0b649b-19aa-4bfb-9382-1a531f3fed32",
   "metadata": {},
   "source": [
    "### Checking Data Structure\n"
   ]
  },
  {
   "cell_type": "code",
   "execution_count": null,
   "id": "6acb5c95-170c-413f-ba4e-a56ac2a55dd2",
   "metadata": {},
   "outputs": [],
   "source": [
    "sales.head(10)"
   ]
  },
  {
   "cell_type": "code",
   "execution_count": null,
   "id": "6e946102-5bb1-4611-a573-c92f75eef3f1",
   "metadata": {},
   "outputs": [],
   "source": [
    "sales.tail(10)"
   ]
  },
  {
   "cell_type": "code",
   "execution_count": null,
   "id": "05e890b6-4578-4b5f-8132-1de8935b81ca",
   "metadata": {},
   "outputs": [],
   "source": [
    "\n",
    "sales.shape"
   ]
  },
  {
   "cell_type": "code",
   "execution_count": null,
   "id": "d39c7f1c-19b3-4ecf-80df-5e772222db0f",
   "metadata": {},
   "outputs": [],
   "source": [
    "sales.columns"
   ]
  },
  {
   "cell_type": "code",
   "execution_count": null,
   "id": "b1af37ea-5978-4bf8-b2c5-896b76c5fa53",
   "metadata": {},
   "outputs": [],
   "source": [
    "sales.dtypes"
   ]
  },
  {
   "cell_type": "code",
   "execution_count": null,
   "id": "2e96030e-dea7-4501-8035-6f10d57ab15d",
   "metadata": {},
   "outputs": [],
   "source": [
    "sales.info()"
   ]
  },
  {
   "cell_type": "markdown",
   "id": "743f2525-eafd-4ee7-b0aa-96694b9bb42d",
   "metadata": {},
   "source": [
    "### Unique Value Counts\n"
   ]
  },
  {
   "cell_type": "code",
   "execution_count": null,
   "id": "73861ccc-3dbd-4d87-85a6-1386c221884d",
   "metadata": {},
   "outputs": [],
   "source": [
    "sales['InvoiceNo'].nunique(), sales['StockCode'].nunique(), sales['Country'].nunique(), sales['CustomerID'].nunique()\n"
   ]
  },
  {
   "cell_type": "markdown",
   "id": "1df4a001-279c-48fe-9e30-66322a9a8f3e",
   "metadata": {
    "editable": true,
    "slideshow": {
     "slide_type": ""
    },
    "tags": []
   },
   "source": [
    "## Deep Data Exploration and Data Quality Check"
   ]
  },
  {
   "cell_type": "code",
   "execution_count": null,
   "id": "435ecdd7-db5f-42ea-97fc-00a60f560832",
   "metadata": {},
   "outputs": [],
   "source": [
    "sales[\"InvoiceNo\"].value_counts().head()"
   ]
  },
  {
   "cell_type": "code",
   "execution_count": null,
   "id": "ad7594d4-51c6-4bd7-adf4-6140249fcf48",
   "metadata": {},
   "outputs": [],
   "source": [
    "sales[\"StockCode\"].value_counts().head()"
   ]
  },
  {
   "cell_type": "code",
   "execution_count": null,
   "id": "4f836ca4-03af-4d5b-b777-bfe620f913da",
   "metadata": {},
   "outputs": [],
   "source": [
    "sales[\"Description\"].value_counts().head()"
   ]
  },
  {
   "cell_type": "code",
   "execution_count": null,
   "id": "c3142bc8-548b-4b26-be5f-8a7ba08aefd9",
   "metadata": {},
   "outputs": [],
   "source": [
    "sales[sales[\"Quantity\"] < 0]"
   ]
  },
  {
   "cell_type": "code",
   "execution_count": null,
   "id": "61dca580-b50e-4867-ba56-597ac49f2f37",
   "metadata": {},
   "outputs": [],
   "source": [
    "sales[sales[\"UnitPrice\"] < 0]"
   ]
  },
  {
   "cell_type": "code",
   "execution_count": null,
   "id": "328ec8d0-ecdb-4d8c-b3e4-0b703614e1eb",
   "metadata": {},
   "outputs": [],
   "source": [
    "sales[\"CustomerID\"].isnull().sum()"
   ]
  },
  {
   "cell_type": "code",
   "execution_count": null,
   "id": "c93a5558-2ea3-4056-b7f6-2c0c329abd9f",
   "metadata": {},
   "outputs": [],
   "source": [
    "sales[\"Description\"].isnull().sum()"
   ]
  },
  {
   "cell_type": "code",
   "execution_count": null,
   "id": "d7bf922f-e608-4d17-90a3-a8d76b2893ca",
   "metadata": {},
   "outputs": [],
   "source": [
    "sales.duplicated().sum()"
   ]
  },
  {
   "cell_type": "code",
   "execution_count": null,
   "id": "793729ce-ea10-4d75-999f-2af96f3f1e6e",
   "metadata": {},
   "outputs": [],
   "source": [
    "sales['InvoiceDate'].min(), sales['InvoiceDate'].max()"
   ]
  },
  {
   "cell_type": "code",
   "execution_count": null,
   "id": "292037c9-990c-40b7-832a-46a4a0150575",
   "metadata": {},
   "outputs": [],
   "source": [
    "sales['Quantity'].describe()"
   ]
  },
  {
   "cell_type": "code",
   "execution_count": null,
   "id": "30cc069a-9048-455f-8370-ba9978581e25",
   "metadata": {},
   "outputs": [],
   "source": [
    "sales['UnitPrice'].describe()"
   ]
  },
  {
   "cell_type": "code",
   "execution_count": null,
   "id": "aecccb52-3f6b-4ceb-9266-44d9c99aafac",
   "metadata": {},
   "outputs": [],
   "source": [
    "sales['CustomerID'].isnull().sum()"
   ]
  },
  {
   "cell_type": "markdown",
   "id": "d3075a2d-d22c-499a-b281-a9b6d2298e2e",
   "metadata": {},
   "source": [
    "\n",
    "  \n",
    "### Initial Observations\n",
    "\n",
    "- The dataset contains 25,000 transactions with 8 columns.\n",
    "- The `InvoiceDate` column is correctly parsed as datetime.\n",
    "- Some missing values are present in `Description` and `CustomerID`.\n",
    "- Memory usage is approximately **1.5 MB**.\n",
    "- There are 1166 unique invoices, 2540 unique products, 18 unique countries, and 654 unique customers.\n",
    "\n",
    "### Data Quality Issues Identified:\n",
    "- **Missing CustomerID**: 8,944 rows (35.8%)\n",
    "- **Returns**: 464 negative quantities\n",
    "- **Missing descriptions**: 111 rows (0.4%)\n",
    "- **Duplicates**: 352 rows (1.4%)\n",
    "- **Zero prices**: Some products with £0.00 price\n"
   ]
  },
  {
   "cell_type": "markdown",
   "id": "06c6cae3-e356-4b80-81bb-ca83e7fe182f",
   "metadata": {},
   "source": [
    "## Data Cleaning and Feature Engineering"
   ]
  },
  {
   "cell_type": "code",
   "execution_count": null,
   "id": "a110231c-695d-4809-b3c7-a7dd43176e30",
   "metadata": {},
   "outputs": [],
   "source": [
    "sales[\"Description\"] = sales[\"Description\"].fillna(\"Unknow Product\")"
   ]
  },
  {
   "cell_type": "code",
   "execution_count": null,
   "id": "e248e471-6f64-41de-9df0-1fd7696af286",
   "metadata": {},
   "outputs": [],
   "source": [
    "sales[\"CustomerID\"] = sales[\"CustomerID\"].fillna(\"GUEST_CUSTOMER\")"
   ]
  },
  {
   "cell_type": "code",
   "execution_count": null,
   "id": "34652135-57f9-43e3-8a5f-3d864ad79c18",
   "metadata": {},
   "outputs": [],
   "source": [
    "negative_count = sales[sales[\"Quantity\"] < 0].shape[0]\n",
    "percentage = (464 / len(sales)) * 100\n",
    "print(f\"Percentage: {percentage:.2f}%\")"
   ]
  },
  {
   "cell_type": "code",
   "execution_count": null,
   "id": "76a8e29f-dd2b-4c4e-b954-257c48d84b90",
   "metadata": {},
   "outputs": [],
   "source": [
    "sales = sales[sales[\"Quantity\"] > 0]"
   ]
  },
  {
   "cell_type": "code",
   "execution_count": null,
   "id": "77013d5e-5079-46d0-a6c5-5d4689abe875",
   "metadata": {},
   "outputs": [],
   "source": [
    "sales.shape"
   ]
  },
  {
   "cell_type": "code",
   "execution_count": null,
   "id": "ed8fef53-92e1-44c6-bf30-9f45f3f0af8b",
   "metadata": {},
   "outputs": [],
   "source": [
    "sales.info()"
   ]
  },
  {
   "cell_type": "markdown",
   "id": "7238f7e7-816f-4f1f-8d08-ef8d8eb70c15",
   "metadata": {},
   "source": [
    " - create new columns"
   ]
  },
  {
   "cell_type": "code",
   "execution_count": null,
   "id": "76a9030c-a730-447e-9704-913834b48763",
   "metadata": {},
   "outputs": [],
   "source": [
    "sales[\"TotalAmount\"] = sales[\"Quantity\"] * sales[\"UnitPrice\"]"
   ]
  },
  {
   "cell_type": "code",
   "execution_count": null,
   "id": "297165fd-75ce-430a-bf40-c16c5fd024c3",
   "metadata": {},
   "outputs": [],
   "source": [
    "sales[\"Date\"] = sales[\"InvoiceDate\"].dt.date"
   ]
  },
  {
   "cell_type": "code",
   "execution_count": null,
   "id": "dc5294b0-a062-470d-8874-51f8c038917a",
   "metadata": {},
   "outputs": [],
   "source": [
    "sales[\"Hour\"] = sales[\"InvoiceDate\"].dt.hour"
   ]
  },
  {
   "cell_type": "code",
   "execution_count": null,
   "id": "d7afa297-95d7-4d19-b719-260d1cdbc480",
   "metadata": {},
   "outputs": [],
   "source": [
    "sales['DayOfWeek'] = sales[\"InvoiceDate\"].dt.day_name()"
   ]
  },
  {
   "cell_type": "markdown",
   "id": "7471ff86-96de-45fa-a1a2-268e54c24fe5",
   "metadata": {},
   "source": [
    "## Optimize Memory Usage\n"
   ]
  },
  {
   "cell_type": "code",
   "execution_count": null,
   "id": "3b5548f6-0c37-487c-bd6c-599fa4c0622c",
   "metadata": {},
   "outputs": [],
   "source": [
    "sales[\"StockCode\"] = sales[\"StockCode\"].astype(\"category\")"
   ]
  },
  {
   "cell_type": "code",
   "execution_count": null,
   "id": "2549a2b3-73ee-4de8-80f0-c0ba13627330",
   "metadata": {},
   "outputs": [],
   "source": [
    "sales[\"Description\"] =  sales[\"Description\"].astype(\"category\")"
   ]
  },
  {
   "cell_type": "code",
   "execution_count": null,
   "id": "658b99ef-d21f-4b6a-99b9-6249f22339f3",
   "metadata": {},
   "outputs": [],
   "source": [
    "sales[\"Country\"] =  sales[\"Country\"].astype(\"category\")"
   ]
  },
  {
   "cell_type": "code",
   "execution_count": null,
   "id": "d04b3f7b-c830-426f-a12f-26ff6f4ae1e3",
   "metadata": {},
   "outputs": [],
   "source": [
    "sales[\"InvoiceNo\"] = sales[\"InvoiceNo\"].astype(\"category\")"
   ]
  },
  {
   "cell_type": "code",
   "execution_count": null,
   "id": "ce407b16-8391-4056-8880-f04449bb8d5c",
   "metadata": {},
   "outputs": [],
   "source": [
    "sales['CustomerID'] = sales['CustomerID'].astype('category')"
   ]
  },
  {
   "cell_type": "code",
   "execution_count": null,
   "id": "e724ce53-8151-4ea9-99c2-92d9eddfc164",
   "metadata": {},
   "outputs": [],
   "source": [
    "sales['DayOfWeek'] = sales['DayOfWeek'].astype('category')"
   ]
  },
  {
   "cell_type": "code",
   "execution_count": null,
   "id": "40a69878-bd76-439e-8936-987e7596e5b4",
   "metadata": {},
   "outputs": [],
   "source": [
    "print(sales.info(memory_usage='deep'))"
   ]
  },
  {
   "cell_type": "markdown",
   "id": "d8be4367-3527-4fd4-8021-a41a41959a55",
   "metadata": {},
   "source": [
    "### After adding new columns, the memory usage rises to 9.3 MB, applying this optimization reduces it to 2.7 MB"
   ]
  },
  {
   "cell_type": "code",
   "execution_count": null,
   "id": "4d57359b-46d7-4b48-a410-6d61443cb984",
   "metadata": {},
   "outputs": [],
   "source": [
    "sales.describe()"
   ]
  },
  {
   "cell_type": "code",
   "execution_count": null,
   "id": "ce8c6cd0-b786-4bca-8db6-872a01dd5853",
   "metadata": {},
   "outputs": [],
   "source": [
    "sales.head()"
   ]
  },
  {
   "cell_type": "code",
   "execution_count": null,
   "id": "9a45c4cb-b478-49ed-8d2a-6fd7e800eb5d",
   "metadata": {},
   "outputs": [],
   "source": [
    "print(f\"Number of duplicates: {sales.duplicated().sum()}\")"
   ]
  },
  {
   "cell_type": "code",
   "execution_count": null,
   "id": "b194aab5-2fcf-4b5e-87f2-1ff106c3ae79",
   "metadata": {},
   "outputs": [],
   "source": [
    "sales_clean = sales.drop_duplicates()\n",
    "print(f\"Number of duplicates: {sales_clean.duplicated().sum()}\")"
   ]
  },
  {
   "cell_type": "code",
   "execution_count": null,
   "id": "b448e174-6b4d-4538-a5a9-65703345488b",
   "metadata": {},
   "outputs": [],
   "source": [
    "# Check Unit Price Column\n",
    "print(f\"Min:{ sales_clean['UnitPrice'].min()}\")\n",
    "print(f\"Max:{sales_clean['UnitPrice'].max()}\")\n",
    "print(f\"Average:{sales_clean['TotalAmount'].mean():.2f}\")\n"
   ]
  },
  {
   "cell_type": "code",
   "execution_count": null,
   "id": "ef875a44-551e-42c8-bb43-0ea867ba19c7",
   "metadata": {},
   "outputs": [],
   "source": [
    "sales_clean = sales_clean[sales_clean[\"UnitPrice\"] > 0]\n",
    "print(f\"Min:{ sales_clean['UnitPrice'].min()}\")"
   ]
  },
  {
   "cell_type": "code",
   "execution_count": null,
   "id": "63a7299e-edb3-499b-ab95-d456a883f5ef",
   "metadata": {},
   "outputs": [],
   "source": [
    "\n",
    "# Quick check if data is ready for analysis\n",
    "# 1. Check data size\n",
    "print(f\"Total rows: {len(sales_clean)}\")\n",
    "print(f\"Total columns: {len(sales_clean.columns)}\")\n",
    "\n",
    "# 2. Check missing values\n",
    "print(f\"\\nMissing values:\")\n",
    "print(sales_clean.isnull().sum())\n",
    "\n",
    "# 3. Check data types\n",
    "print(f\"\\nData types:\")\n",
    "print(sales_clean.dtypes)\n"
   ]
  },
  {
   "cell_type": "code",
   "execution_count": null,
   "id": "d4fe1365-6cf6-4cb4-aa3c-d978100388f7",
   "metadata": {},
   "outputs": [],
   "source": [
    "sales_clean[\"Date\"] = pd.to_datetime(sales_clean[\"Date\"])\n",
    "print(sales_clean[\"Date\"].dtypes)"
   ]
  },
  {
   "cell_type": "code",
   "execution_count": null,
   "id": "0ce949df-7164-4921-a408-60124f385d82",
   "metadata": {},
   "outputs": [],
   "source": [
    "sales_clean.info()"
   ]
  },
  {
   "cell_type": "code",
   "execution_count": null,
   "id": "48a8d8ed-ad60-40ce-8e2b-e6c06fad52c4",
   "metadata": {},
   "outputs": [],
   "source": [
    "sales_clean.to_excel(\"cleaned_retail_data.xlsx\", index=False, engine=\"openpyxl\")"
   ]
  },
  {
   "cell_type": "code",
   "execution_count": null,
   "id": "44b18284-8e52-42d1-8d0b-6b650e6d5fbb",
   "metadata": {},
   "outputs": [],
   "source": [
    "sales_clean.info(memory_usage = \"deep\")"
   ]
  },
  {
   "cell_type": "code",
   "execution_count": null,
   "id": "16de6b47-1dbc-49b6-b47c-4bbd42892180",
   "metadata": {},
   "outputs": [],
   "source": []
  },
  {
   "cell_type": "markdown",
   "id": "32cb2fc9-b0b0-41be-bb9d-34e073df53d2",
   "metadata": {},
   "source": [
    "## Data Cleaning - SUMMARY\n",
    "### Changes Made:\n",
    "- **Removed negative quantities**: 464 transactions (1.86% of data)\n",
    "- **Filled missing descriptions**: Replaced with 'Unknown Product'  \n",
    "- **Filled missing CustomerID**: Replaced with 'GUEST_CUSTOMER'\n",
    "- **removed dublicates**: 343 rows (1.4% of data)\n",
    "- **Saved cleaned data**: 'sales_clean.csv'\n",
    "-  Removed rows where UnitPrice is zero or negative (invalid prices)\n",
    "\n",
    "### Dataset Status:\n",
    "- **Final shape**: 24,078 transactions × 12 columns\n",
    "- **Data quality**: Improved, basic cleaning complete\n",
    "- **Memory usage**: 1.9+ MB\n",
    "\n"
   ]
  }
 ],
 "metadata": {
  "kernelspec": {
   "display_name": "Python 3 (ipykernel)",
   "language": "python",
   "name": "python3"
  },
  "language_info": {
   "codemirror_mode": {
    "name": "ipython",
    "version": 3
   },
   "file_extension": ".py",
   "mimetype": "text/x-python",
   "name": "python",
   "nbconvert_exporter": "python",
   "pygments_lexer": "ipython3",
   "version": "3.13.2"
  }
 },
 "nbformat": 4,
 "nbformat_minor": 5
}
